{
 "cells": [
  {
   "cell_type": "markdown",
   "metadata": {},
   "source": [
    "<center><img src=\"http://sydney.edu.au/images/content/about/logo-mono.jpg\"></center>\n",
    "\n",
    "<center><h1>Statistical Learning and Data Mining (QBUS6810)</h1></center>\n",
    "<center><h2>Tutorial 11: Regression Splines</h2></center>\n",
    "<br>\n",
    "\n",
    "In this tutorial we study how to implement regression splines and generalised additive models in Python.\n",
    "\n",
    "<a class=\"buttom\" href=\">#Data:-customer-analytics\">Data: Customer Analytics</a> <br>\n",
    "<a class=\"buttom\" href=\"#Exploratory-data-analysis\">Exploratory data analysis</a> <br>\n",
    "<a class=\"buttom\" href=\"#Regression-splines\">Regression splines</a> <br>\n",
    "<a class=\"buttom\" href=\"#Natural-splines\">Natural splines</a> <br>\n",
    "<a class=\"buttom\" href=\"#Generalised-additive-model\">Generalised additive model</a> <br>\n",
    "<a class=\"buttom\" href=\"#Model-evaluation\">Model Evaluation</a> <br>\n",
    "<a class=\"buttom\" href=\"#Exercise\">Exercise</a> <br>\n",
    "\n",
    "This notebook relies on the following imports and settings."
   ]
  },
  {
   "cell_type": "code",
   "execution_count": 1,
   "metadata": {},
   "outputs": [],
   "source": [
    "# Packages\n",
    "import warnings\n",
    "warnings.filterwarnings(\"ignore\")\n",
    "import numpy as np\n",
    "from scipy import stats\n",
    "import pandas as pd\n",
    "import matplotlib.pyplot as plt\n",
    "import seaborn as sns\n",
    "import statsmodels.api as sm"
   ]
  },
  {
   "cell_type": "code",
   "execution_count": 2,
   "metadata": {},
   "outputs": [],
   "source": [
    "# Plot settings\n",
    "sns.set_context('notebook') \n",
    "sns.set_style('ticks')\n",
    "blue='#1F77B4'\n",
    "%matplotlib inline"
   ]
  },
  {
   "cell_type": "markdown",
   "metadata": {},
   "source": [
    "##Data: Customer Analytics\n",
    "\n",
    "We again focus on customer analytics dataset from Tutorials 6 and 10."
   ]
  },
  {
   "cell_type": "code",
   "execution_count": 3,
   "metadata": {},
   "outputs": [
    {
     "data": {
      "text/html": [
       "<div>\n",
       "<style>\n",
       "    .dataframe thead tr:only-child th {\n",
       "        text-align: right;\n",
       "    }\n",
       "\n",
       "    .dataframe thead th {\n",
       "        text-align: left;\n",
       "    }\n",
       "\n",
       "    .dataframe tbody tr th {\n",
       "        vertical-align: top;\n",
       "    }\n",
       "</style>\n",
       "<table border=\"1\" class=\"dataframe\">\n",
       "  <thead>\n",
       "    <tr style=\"text-align: right;\">\n",
       "      <th></th>\n",
       "      <th>Acquisition</th>\n",
       "      <th>First_Purchase</th>\n",
       "      <th>CLV</th>\n",
       "      <th>Duration</th>\n",
       "      <th>Censor</th>\n",
       "      <th>Acq_Expense</th>\n",
       "      <th>Acq_Expense_SQ</th>\n",
       "      <th>Industry</th>\n",
       "      <th>Revenue</th>\n",
       "      <th>Employees</th>\n",
       "      <th>Ret_Expense</th>\n",
       "      <th>Ret_Expense_SQ</th>\n",
       "      <th>Crossbuy</th>\n",
       "      <th>Frequency</th>\n",
       "      <th>Frequency_SQ</th>\n",
       "    </tr>\n",
       "    <tr>\n",
       "      <th>Customer</th>\n",
       "      <th></th>\n",
       "      <th></th>\n",
       "      <th></th>\n",
       "      <th></th>\n",
       "      <th></th>\n",
       "      <th></th>\n",
       "      <th></th>\n",
       "      <th></th>\n",
       "      <th></th>\n",
       "      <th></th>\n",
       "      <th></th>\n",
       "      <th></th>\n",
       "      <th></th>\n",
       "      <th></th>\n",
       "      <th></th>\n",
       "    </tr>\n",
       "  </thead>\n",
       "  <tbody>\n",
       "    <tr>\n",
       "      <th>1</th>\n",
       "      <td>1</td>\n",
       "      <td>433.64</td>\n",
       "      <td>0.0000</td>\n",
       "      <td>384</td>\n",
       "      <td>0</td>\n",
       "      <td>760.36</td>\n",
       "      <td>578147.33</td>\n",
       "      <td>1</td>\n",
       "      <td>30.16</td>\n",
       "      <td>1240</td>\n",
       "      <td>2309.79</td>\n",
       "      <td>5335129.84</td>\n",
       "      <td>5</td>\n",
       "      <td>2</td>\n",
       "      <td>4</td>\n",
       "    </tr>\n",
       "    <tr>\n",
       "      <th>2</th>\n",
       "      <td>0</td>\n",
       "      <td>0.00</td>\n",
       "      <td>0.0000</td>\n",
       "      <td>0</td>\n",
       "      <td>0</td>\n",
       "      <td>147.70</td>\n",
       "      <td>21815.29</td>\n",
       "      <td>1</td>\n",
       "      <td>39.80</td>\n",
       "      <td>166</td>\n",
       "      <td>0.00</td>\n",
       "      <td>0.00</td>\n",
       "      <td>0</td>\n",
       "      <td>0</td>\n",
       "      <td>0</td>\n",
       "    </tr>\n",
       "    <tr>\n",
       "      <th>3</th>\n",
       "      <td>0</td>\n",
       "      <td>0.00</td>\n",
       "      <td>0.0000</td>\n",
       "      <td>0</td>\n",
       "      <td>0</td>\n",
       "      <td>252.56</td>\n",
       "      <td>63786.55</td>\n",
       "      <td>1</td>\n",
       "      <td>54.93</td>\n",
       "      <td>1016</td>\n",
       "      <td>0.00</td>\n",
       "      <td>0.00</td>\n",
       "      <td>0</td>\n",
       "      <td>0</td>\n",
       "      <td>0</td>\n",
       "    </tr>\n",
       "    <tr>\n",
       "      <th>4</th>\n",
       "      <td>1</td>\n",
       "      <td>225.84</td>\n",
       "      <td>5.7316</td>\n",
       "      <td>730</td>\n",
       "      <td>1</td>\n",
       "      <td>609.73</td>\n",
       "      <td>371770.67</td>\n",
       "      <td>1</td>\n",
       "      <td>45.83</td>\n",
       "      <td>122</td>\n",
       "      <td>2192.59</td>\n",
       "      <td>4807450.91</td>\n",
       "      <td>2</td>\n",
       "      <td>12</td>\n",
       "      <td>144</td>\n",
       "    </tr>\n",
       "    <tr>\n",
       "      <th>5</th>\n",
       "      <td>1</td>\n",
       "      <td>363.04</td>\n",
       "      <td>0.0000</td>\n",
       "      <td>579</td>\n",
       "      <td>0</td>\n",
       "      <td>672.36</td>\n",
       "      <td>452067.97</td>\n",
       "      <td>1</td>\n",
       "      <td>69.03</td>\n",
       "      <td>313</td>\n",
       "      <td>801.14</td>\n",
       "      <td>641825.30</td>\n",
       "      <td>4</td>\n",
       "      <td>7</td>\n",
       "      <td>49</td>\n",
       "    </tr>\n",
       "    <tr>\n",
       "      <th>6</th>\n",
       "      <td>0</td>\n",
       "      <td>0.00</td>\n",
       "      <td>0.0000</td>\n",
       "      <td>0</td>\n",
       "      <td>0</td>\n",
       "      <td>435.57</td>\n",
       "      <td>189721.22</td>\n",
       "      <td>0</td>\n",
       "      <td>22.54</td>\n",
       "      <td>359</td>\n",
       "      <td>0.00</td>\n",
       "      <td>0.00</td>\n",
       "      <td>0</td>\n",
       "      <td>0</td>\n",
       "      <td>0</td>\n",
       "    </tr>\n",
       "    <tr>\n",
       "      <th>7</th>\n",
       "      <td>0</td>\n",
       "      <td>0.00</td>\n",
       "      <td>0.0000</td>\n",
       "      <td>0</td>\n",
       "      <td>0</td>\n",
       "      <td>362.90</td>\n",
       "      <td>131696.41</td>\n",
       "      <td>0</td>\n",
       "      <td>32.97</td>\n",
       "      <td>902</td>\n",
       "      <td>0.00</td>\n",
       "      <td>0.00</td>\n",
       "      <td>0</td>\n",
       "      <td>0</td>\n",
       "      <td>0</td>\n",
       "    </tr>\n",
       "    <tr>\n",
       "      <th>8</th>\n",
       "      <td>0</td>\n",
       "      <td>0.00</td>\n",
       "      <td>0.0000</td>\n",
       "      <td>0</td>\n",
       "      <td>0</td>\n",
       "      <td>883.54</td>\n",
       "      <td>780642.93</td>\n",
       "      <td>0</td>\n",
       "      <td>22.48</td>\n",
       "      <td>264</td>\n",
       "      <td>0.00</td>\n",
       "      <td>0.00</td>\n",
       "      <td>0</td>\n",
       "      <td>0</td>\n",
       "      <td>0</td>\n",
       "    </tr>\n",
       "    <tr>\n",
       "      <th>9</th>\n",
       "      <td>1</td>\n",
       "      <td>599.30</td>\n",
       "      <td>6.9161</td>\n",
       "      <td>730</td>\n",
       "      <td>1</td>\n",
       "      <td>452.35</td>\n",
       "      <td>204620.52</td>\n",
       "      <td>1</td>\n",
       "      <td>17.98</td>\n",
       "      <td>1782</td>\n",
       "      <td>1340.75</td>\n",
       "      <td>1797610.56</td>\n",
       "      <td>1</td>\n",
       "      <td>11</td>\n",
       "      <td>121</td>\n",
       "    </tr>\n",
       "    <tr>\n",
       "      <th>10</th>\n",
       "      <td>1</td>\n",
       "      <td>271.18</td>\n",
       "      <td>6.0839</td>\n",
       "      <td>730</td>\n",
       "      <td>1</td>\n",
       "      <td>786.72</td>\n",
       "      <td>618928.36</td>\n",
       "      <td>1</td>\n",
       "      <td>38.91</td>\n",
       "      <td>539</td>\n",
       "      <td>2265.93</td>\n",
       "      <td>5134438.76</td>\n",
       "      <td>1</td>\n",
       "      <td>14</td>\n",
       "      <td>196</td>\n",
       "    </tr>\n",
       "  </tbody>\n",
       "</table>\n",
       "</div>"
      ],
      "text/plain": [
       "          Acquisition  First_Purchase     CLV  Duration  Censor  Acq_Expense  \\\n",
       "Customer                                                                       \n",
       "1                   1          433.64  0.0000       384       0       760.36   \n",
       "2                   0            0.00  0.0000         0       0       147.70   \n",
       "3                   0            0.00  0.0000         0       0       252.56   \n",
       "4                   1          225.84  5.7316       730       1       609.73   \n",
       "5                   1          363.04  0.0000       579       0       672.36   \n",
       "6                   0            0.00  0.0000         0       0       435.57   \n",
       "7                   0            0.00  0.0000         0       0       362.90   \n",
       "8                   0            0.00  0.0000         0       0       883.54   \n",
       "9                   1          599.30  6.9161       730       1       452.35   \n",
       "10                  1          271.18  6.0839       730       1       786.72   \n",
       "\n",
       "          Acq_Expense_SQ  Industry  Revenue  Employees  Ret_Expense  \\\n",
       "Customer                                                              \n",
       "1              578147.33         1    30.16       1240      2309.79   \n",
       "2               21815.29         1    39.80        166         0.00   \n",
       "3               63786.55         1    54.93       1016         0.00   \n",
       "4              371770.67         1    45.83        122      2192.59   \n",
       "5              452067.97         1    69.03        313       801.14   \n",
       "6              189721.22         0    22.54        359         0.00   \n",
       "7              131696.41         0    32.97        902         0.00   \n",
       "8              780642.93         0    22.48        264         0.00   \n",
       "9              204620.52         1    17.98       1782      1340.75   \n",
       "10             618928.36         1    38.91        539      2265.93   \n",
       "\n",
       "          Ret_Expense_SQ  Crossbuy  Frequency  Frequency_SQ  \n",
       "Customer                                                     \n",
       "1             5335129.84         5          2             4  \n",
       "2                   0.00         0          0             0  \n",
       "3                   0.00         0          0             0  \n",
       "4             4807450.91         2         12           144  \n",
       "5              641825.30         4          7            49  \n",
       "6                   0.00         0          0             0  \n",
       "7                   0.00         0          0             0  \n",
       "8                   0.00         0          0             0  \n",
       "9             1797610.56         1         11           121  \n",
       "10            5134438.76         1         14           196  "
      ]
     },
     "execution_count": 3,
     "metadata": {},
     "output_type": "execute_result"
    }
   ],
   "source": [
    "data = pd.read_excel('CustomerAcquisition.xls', index_col=[0])\n",
    "data.head(10)"
   ]
  },
  {
   "cell_type": "markdown",
   "metadata": {},
   "source": [
    "Our first goal in this tutorial is to extend of customer lifetime value (CLV) analysis from Tutorial 6 to account for nonlinearities. We therefore process the dataset in a similar way."
   ]
  },
  {
   "cell_type": "code",
   "execution_count": 4,
   "metadata": {},
   "outputs": [],
   "source": [
    "data = data[data['Censor']==1] # our goal is to predict the CLV of retained customers, identified by Censor=1 \n",
    "\n",
    "response = ['CLV']\n",
    "predictors=['Acq_Expense', 'Ret_Expense', 'First_Purchase', 'Revenue', 'Employees', 'Crossbuy', 'Frequency', 'Industry']\n",
    "    \n",
    "data = data[response+predictors] # keeping only the variables that we are going to use\n",
    "\n",
    "train = data.sample(frac=0.7, random_state=1)\n",
    "test = data[data.index.isin(train.index)==False].copy()\n",
    "\n",
    "X_train= train[predictors]\n",
    "X_test= test[predictors]\n",
    "y_train= train['CLV']\n",
    "y_test= test['CLV']"
   ]
  },
  {
   "cell_type": "markdown",
   "metadata": {},
   "source": [
    "##Exploratory data analysis\n",
    "\n",
    "We start by computing the correlations between the response and the predictors as a reference for our analysis."
   ]
  },
  {
   "cell_type": "code",
   "execution_count": 5,
   "metadata": {},
   "outputs": [
    {
     "data": {
      "text/html": [
       "<div>\n",
       "<style>\n",
       "    .dataframe thead tr:only-child th {\n",
       "        text-align: right;\n",
       "    }\n",
       "\n",
       "    .dataframe thead th {\n",
       "        text-align: left;\n",
       "    }\n",
       "\n",
       "    .dataframe tbody tr th {\n",
       "        vertical-align: top;\n",
       "    }\n",
       "</style>\n",
       "<table border=\"1\" class=\"dataframe\">\n",
       "  <thead>\n",
       "    <tr style=\"text-align: right;\">\n",
       "      <th></th>\n",
       "      <th>CLV</th>\n",
       "    </tr>\n",
       "  </thead>\n",
       "  <tbody>\n",
       "    <tr>\n",
       "      <th>CLV</th>\n",
       "      <td>1.000</td>\n",
       "    </tr>\n",
       "    <tr>\n",
       "      <th>Acq_Expense</th>\n",
       "      <td>-0.425</td>\n",
       "    </tr>\n",
       "    <tr>\n",
       "      <th>Ret_Expense</th>\n",
       "      <td>0.411</td>\n",
       "    </tr>\n",
       "    <tr>\n",
       "      <th>First_Purchase</th>\n",
       "      <td>0.558</td>\n",
       "    </tr>\n",
       "    <tr>\n",
       "      <th>Revenue</th>\n",
       "      <td>0.123</td>\n",
       "    </tr>\n",
       "    <tr>\n",
       "      <th>Employees</th>\n",
       "      <td>0.543</td>\n",
       "    </tr>\n",
       "    <tr>\n",
       "      <th>Crossbuy</th>\n",
       "      <td>0.358</td>\n",
       "    </tr>\n",
       "    <tr>\n",
       "      <th>Frequency</th>\n",
       "      <td>-0.078</td>\n",
       "    </tr>\n",
       "    <tr>\n",
       "      <th>Industry</th>\n",
       "      <td>0.127</td>\n",
       "    </tr>\n",
       "  </tbody>\n",
       "</table>\n",
       "</div>"
      ],
      "text/plain": [
       "                  CLV\n",
       "CLV             1.000\n",
       "Acq_Expense    -0.425\n",
       "Ret_Expense     0.411\n",
       "First_Purchase  0.558\n",
       "Revenue         0.123\n",
       "Employees       0.543\n",
       "Crossbuy        0.358\n",
       "Frequency      -0.078\n",
       "Industry        0.127"
      ]
     },
     "execution_count": 5,
     "metadata": {},
     "output_type": "execute_result"
    }
   ],
   "source": [
    "train.corr().round(3)[['CLV']]"
   ]
  },
  {
   "cell_type": "markdown",
   "metadata": {},
   "source": [
    "To explore possible nonlinearities in the data, we build scatter plots for all the numerical predictors. The scatter plots include local regression fits for visualisation. Nonlinear patters are apparent for several predictors, in particular the acquisition and retention expenses, customer revenue, and buying frequency. "
   ]
  },
  {
   "cell_type": "code",
   "execution_count": 6,
   "metadata": {},
   "outputs": [
    {
     "data": {
      "image/png": "[encoded data removed]",
      "text/plain": [
       "<matplotlib.figure.Figure at 0x261b9df2908>"
      ]
     },
     "metadata": {},
     "output_type": "display_data"
    }
   ],
   "source": [
    "fig, ax = plt.subplots(figsize=(8,5))\n",
    "sns.regplot(train['Acq_Expense'], train['CLV'],  scatter_kws = {'s': 25}, lowess=True, color=blue)\n",
    "sns.despine()\n",
    "fig.show()"
   ]
  },
  {
   "cell_type": "code",
   "execution_count": 7,
   "metadata": {},
   "outputs": [
    {
     "data": {
      "image/png": "[encoded data removed]",
      "text/plain": [
       "<matplotlib.figure.Figure at 0x261b9dfd9b0>"
      ]
     },
     "metadata": {},
     "output_type": "display_data"
    }
   ],
   "source": [
    "fig, ax = plt.subplots(figsize=(8,5))\n",
    "sns.regplot(train['Ret_Expense'], train['CLV'],  scatter_kws = {'s': 25}, lowess=True, color=blue)\n",
    "sns.despine()\n",
    "fig.show()"
   ]
  },
  {
   "cell_type": "code",
   "execution_count": 8,
   "metadata": {},
   "outputs": [
    {
     "data": {
      "image/png": "[encoded data removed]",
      "text/plain": [
       "<matplotlib.figure.Figure at 0x261b9d5eb38>"
      ]
     },
     "metadata": {},
     "output_type": "display_data"
    }
   ],
   "source": [
    "fig, ax = plt.subplots(figsize=(8,5))\n",
    "sns.regplot(train['First_Purchase'], train['CLV'],  scatter_kws = {'s': 25}, lowess=True, color=blue)\n",
    "sns.despine()\n",
    "fig.show()"
   ]
  },
  {
   "cell_type": "code",
   "execution_count": 9,
   "metadata": {},
   "outputs": [
    {
     "data": {
      "image/png": "[encoded data removed]",
      "text/plain": [
       "<matplotlib.figure.Figure at 0x261b9d6e630>"
      ]
     },
     "metadata": {},
     "output_type": "display_data"
    }
   ],
   "source": [
    "fig, ax = plt.subplots(figsize=(8,5))\n",
    "sns.regplot(train['Revenue'], train['CLV'],  scatter_kws = {'s': 25}, lowess=True, color=blue)\n",
    "sns.despine()\n",
    "fig.show()"
   ]
  },
  {
   "cell_type": "code",
   "execution_count": 10,
   "metadata": {},
   "outputs": [
    {
     "data": {
      "image/png": "[encoded data removed]",
      "text/plain": [
       "<matplotlib.figure.Figure at 0x261ba401a20>"
      ]
     },
     "metadata": {},
     "output_type": "display_data"
    }
   ],
   "source": [
    "fig, ax = plt.subplots(figsize=(8,5))\n",
    "sns.regplot(train['Employees'], train['CLV'],  scatter_kws = {'s': 25}, lowess=True, color=blue)\n",
    "sns.despine()\n",
    "fig.show()"
   ]
  },
  {
   "cell_type": "code",
   "execution_count": 11,
   "metadata": {},
   "outputs": [
    {
     "data": {
      "image/png": "[encoded data removed]",
      "text/plain": [
       "<matplotlib.figure.Figure at 0x261ba4414e0>"
      ]
     },
     "metadata": {},
     "output_type": "display_data"
    }
   ],
   "source": [
    "fig, ax = plt.subplots(figsize=(8,5))\n",
    "sns.regplot(train['Frequency'], train['CLV'],  scatter_kws = {'s': 25}, lowess=True, color=blue)\n",
    "sns.despine()\n",
    "fig.show()"
   ]
  },
  {
   "cell_type": "markdown",
   "metadata": {},
   "source": [
    "##Regression Splines\n",
    "\n",
    "We use the [<TT>patsy</TT>](http://patsy.readthedocs.io/en/latest/index.html) library to construct spline expansions. Our implementation is based on two core functions: [<TT>dmatrix</TT>](http://patsy.readthedocs.io/en/latest/API-reference.html#patsy.dmatrix), the general design matrix constructor, and [<TT>bs</TT>](http://patsy.readthedocs.io/en/latest/API-reference.html#spline-regression), the building block for regression splines.\n",
    "\n",
    "The next cell builds a linear basis expansion for a cubic spline (degree=3) with four degrees of freedom (df=4, therefore using one knot) for the retention expense. The function generates B-splines rather than the step functions we have seen in the lectures. B-splines generate an equivalent model, but lead to more numerically stable computations. "
   ]
  },
  {
   "cell_type": "code",
   "execution_count": 12,
   "metadata": {},
   "outputs": [
    {
     "data": {
      "text/html": [
       "<div>\n",
       "<style>\n",
       "    .dataframe thead tr:only-child th {\n",
       "        text-align: right;\n",
       "    }\n",
       "\n",
       "    .dataframe thead th {\n",
       "        text-align: left;\n",
       "    }\n",
       "\n",
       "    .dataframe tbody tr th {\n",
       "        vertical-align: top;\n",
       "    }\n",
       "</style>\n",
       "<table border=\"1\" class=\"dataframe\">\n",
       "  <thead>\n",
       "    <tr style=\"text-align: right;\">\n",
       "      <th></th>\n",
       "      <th>bs(predictor, degree=3, df=4)[0]</th>\n",
       "      <th>bs(predictor, degree=3, df=4)[1]</th>\n",
       "      <th>bs(predictor, degree=3, df=4)[2]</th>\n",
       "      <th>bs(predictor, degree=3, df=4)[3]</th>\n",
       "    </tr>\n",
       "    <tr>\n",
       "      <th>Customer</th>\n",
       "      <th></th>\n",
       "      <th></th>\n",
       "      <th></th>\n",
       "      <th></th>\n",
       "    </tr>\n",
       "  </thead>\n",
       "  <tbody>\n",
       "    <tr>\n",
       "      <th>126</th>\n",
       "      <td>0.318851</td>\n",
       "      <td>0.489163</td>\n",
       "      <td>0.191170</td>\n",
       "      <td>0.000000</td>\n",
       "    </tr>\n",
       "    <tr>\n",
       "      <th>103</th>\n",
       "      <td>0.391723</td>\n",
       "      <td>0.460276</td>\n",
       "      <td>0.142328</td>\n",
       "      <td>0.000000</td>\n",
       "    </tr>\n",
       "    <tr>\n",
       "      <th>330</th>\n",
       "      <td>0.031471</td>\n",
       "      <td>0.251704</td>\n",
       "      <td>0.595972</td>\n",
       "      <td>0.120853</td>\n",
       "    </tr>\n",
       "    <tr>\n",
       "      <th>17</th>\n",
       "      <td>0.009401</td>\n",
       "      <td>0.131247</td>\n",
       "      <td>0.569199</td>\n",
       "      <td>0.290153</td>\n",
       "    </tr>\n",
       "    <tr>\n",
       "      <th>216</th>\n",
       "      <td>0.164663</td>\n",
       "      <td>0.477499</td>\n",
       "      <td>0.356010</td>\n",
       "      <td>0.001828</td>\n",
       "    </tr>\n",
       "  </tbody>\n",
       "</table>\n",
       "</div>"
      ],
      "text/plain": [
       "          bs(predictor, degree=3, df=4)[0]  bs(predictor, degree=3, df=4)[1]  \\\n",
       "Customer                                                                       \n",
       "126                               0.318851                          0.489163   \n",
       "103                               0.391723                          0.460276   \n",
       "330                               0.031471                          0.251704   \n",
       "17                                0.009401                          0.131247   \n",
       "216                               0.164663                          0.477499   \n",
       "\n",
       "          bs(predictor, degree=3, df=4)[2]  bs(predictor, degree=3, df=4)[3]  \n",
       "Customer                                                                      \n",
       "126                               0.191170                          0.000000  \n",
       "103                               0.142328                          0.000000  \n",
       "330                               0.595972                          0.120853  \n",
       "17                                0.569199                          0.290153  \n",
       "216                               0.356010                          0.001828  "
      ]
     },
     "execution_count": 12,
     "metadata": {},
     "output_type": "execute_result"
    }
   ],
   "source": [
    "from patsy import dmatrix\n",
    "\n",
    "X = dmatrix('bs(predictor, degree=3, df=4) - 1', {'predictor': train['Ret_Expense']}, return_type='dataframe')\n",
    "# The -1 excludes the intercept\n",
    "X.head()"
   ]
  },
  {
   "cell_type": "markdown",
   "metadata": {},
   "source": [
    "Given the design matrix, we estimate the model by OLS. "
   ]
  },
  {
   "cell_type": "code",
   "execution_count": 13,
   "metadata": {},
   "outputs": [
    {
     "data": {
      "text/plain": [
       "LinearRegression(copy_X=True, fit_intercept=True, n_jobs=1, normalize=False)"
      ]
     },
     "execution_count": 13,
     "metadata": {},
     "output_type": "execute_result"
    }
   ],
   "source": [
    "from sklearn.linear_model import LinearRegression\n",
    "ols = LinearRegression()\n",
    "ols.fit(X, y_train)"
   ]
  },
  {
   "cell_type": "code",
   "execution_count": 14,
   "metadata": {},
   "outputs": [],
   "source": [
    "from patsy import build_design_matrices\n",
    "\n",
    "a=train['Ret_Expense'].min()\n",
    "b=train['Ret_Expense'].max()\n",
    "x=np.linspace(a, b)\n",
    "\n",
    "X_predict = build_design_matrices([X.design_info], {'predictor': x})[0] # remember that X is our original design matrix\n",
    "y_fitted=ols.predict(X_predict)"
   ]
  },
  {
   "cell_type": "markdown",
   "metadata": {},
   "source": [
    "Finally, we plot the regression fit. "
   ]
  },
  {
   "cell_type": "code",
   "execution_count": 15,
   "metadata": {},
   "outputs": [
    {
     "data": {
      "image/png": "[encoded data removed]",
      "text/plain": [
       "<matplotlib.figure.Figure at 0x261ba8b15c0>"
      ]
     },
     "metadata": {},
     "output_type": "display_data"
    }
   ],
   "source": [
    "fig, ax = plt.subplots(figsize=(8,5))\n",
    "sns.regplot(train['Ret_Expense'], y_train,  scatter_kws = {'s': 25}, fit_reg=False, color=blue)\n",
    "ax.plot(x, y_fitted, color='Black', alpha=0.7)\n",
    "ax.set_xlabel('Retention expense')\n",
    "ax.set_ylabel('Customer Lifetime Value')\n",
    "ax.set_title('Cubic spline (df = 4)', fontsize=13, fontweight='bold')\n",
    "\n",
    "sns.despine()\n",
    "plt.show()"
   ]
  },
  {
   "cell_type": "markdown",
   "metadata": {},
   "source": [
    "The next repeats all these steps for a linear spline with one knot. You should experiment by changing the first two lines to try different models (say, by adding more knots) and predictors."
   ]
  },
  {
   "cell_type": "code",
   "execution_count": 16,
   "metadata": {},
   "outputs": [
    {
     "data": {
      "image/png": "[encoded data removed]",
      "text/plain": [
       "<matplotlib.figure.Figure at 0x261ba8fc080>"
      ]
     },
     "metadata": {},
     "output_type": "display_data"
    }
   ],
   "source": [
    "predictor = 'Ret_Expense'\n",
    "X = dmatrix('bs(variable, degree=1, df=2) - 1', {'variable': train[predictor]}, return_type='dataframe')\n",
    "\n",
    "ols = LinearRegression()\n",
    "ols.fit(X, y_train)\n",
    "\n",
    "a=train[predictor].min()\n",
    "b=train[predictor].max()\n",
    "x=np.linspace(a, b)\n",
    "\n",
    "X_predict = build_design_matrices([X.design_info], {'variable': x})[0] # remember that X is our original design matrix\n",
    "y_fitted=ols.predict(X_predict)\n",
    "\n",
    "fig, ax = plt.subplots(figsize=(8,5))\n",
    "sns.regplot(train[predictor], y_train,  scatter_kws = {'s': 25}, fit_reg=False, color=blue)\n",
    "ax.plot(x, y_fitted, color='Black', alpha=0.7)\n",
    "ax.set_ylabel('Customer Lifetime Value')\n",
    "ax.set_title('Regression spline', fontsize=13, fontweight='bold')\n",
    "\n",
    "sns.despine()\n",
    "plt.show()"
   ]
  },
  {
   "cell_type": "markdown",
   "metadata": {},
   "source": [
    "##Natural Splines\n",
    "\n",
    "Estimating a natural cubic spline requires only a straightforward modification. "
   ]
  },
  {
   "cell_type": "code",
   "execution_count": 17,
   "metadata": {},
   "outputs": [
    {
     "data": {
      "image/png": "[encoded data removed]",
      "text/plain": [
       "<matplotlib.figure.Figure at 0x261ba4cf550>"
      ]
     },
     "metadata": {},
     "output_type": "display_data"
    }
   ],
   "source": [
    "predictor = 'Ret_Expense'\n",
    "X = dmatrix('cr(variable, df=4) - 1', {'variable': train[predictor]}, return_type='dataframe')\n",
    "\n",
    "ols = LinearRegression()\n",
    "ols.fit(X, y_train)\n",
    "\n",
    "a=train[predictor].min()\n",
    "b=train[predictor].max()\n",
    "x=np.linspace(a, b)\n",
    "\n",
    "X_predict = build_design_matrices([X.design_info], {'variable': x})[0] # remember that X is our original design matrix\n",
    "y_fitted=ols.predict(X_predict)\n",
    "\n",
    "fig, ax = plt.subplots(figsize=(8,5))\n",
    "sns.regplot(train[predictor], y_train,  scatter_kws = {'s': 25}, fit_reg=False, color=blue)\n",
    "ax.plot(x, y_fitted, color='Black', alpha=0.7)\n",
    "ax.set_ylabel('Customer Lifetime Value')\n",
    "ax.set_title('Natural cubic spline (df=4)', fontsize=13, fontweight='bold')\n",
    "\n",
    "sns.despine()\n",
    "plt.show()"
   ]
  },
  {
   "cell_type": "markdown",
   "metadata": {},
   "source": [
    "##Generalised additive model\n",
    "\n",
    "We implement a generalised regression based on naturals splines in the <TT>statlearning</TT> module. To fit the model, we build a dictionary to indicate the number of natural spline basis functions that we request for selected predictors.  All predictors not included in the dictionary are assumed to be linear.   "
   ]
  },
  {
   "cell_type": "code",
   "execution_count": 18,
   "metadata": {},
   "outputs": [],
   "source": [
    "from statlearning import generalised_additive_regression\n",
    "\n",
    "spline_dfs={'Ret_Expense': 4, 'Acq_Expense': 3, 'Frequency': 3, 'Employees': 4}\n",
    "\n",
    "gam = generalised_additive_regression()\n",
    "gam.fit(X_train, y_train, spline_dfs)"
   ]
  },
  {
   "cell_type": "markdown",
   "metadata": {},
   "source": [
    "We use a backward selection algorithm to find the best specification by cross validation. First, we build a dictionary to specify the maximum degrees of freedom that we are going to consider for each predictor. Because the sample size is small, it is important to not set these numbers high as the selected model may overfit even if we are using cross validation. "
   ]
  },
  {
   "cell_type": "code",
   "execution_count": 19,
   "metadata": {},
   "outputs": [
    {
     "name": "stdout",
     "output_type": "stream",
     "text": [
      "{'Acq_Expense': 3, 'Ret_Expense': 3, 'First_Purchase': 2, 'Revenue': 2, 'Employees': 2, 'Crossbuy': 2, 'Frequency': 2}\n"
     ]
    }
   ],
   "source": [
    "max_dfs = {} # initialising dictionary\n",
    "\n",
    "# setting a maximum of two degrees of freedom for each numerical predictor\n",
    "\n",
    "for predictor in  list(X_train.columns[:-1]): # looping over the list of numerical predictors\n",
    "    max_dfs[predictor] = 2 \n",
    "\n",
    "# allowing the acquisition and retention expenses specifically to have higher maximum degrees of freedom \n",
    "\n",
    "max_dfs['Acq_Expense'] = 3\n",
    "max_dfs['Ret_Expense'] = 3\n",
    "\n",
    "print(max_dfs)"
   ]
  },
  {
   "cell_type": "markdown",
   "metadata": {},
   "source": [
    "The following syntax selects and fits the best specification according to leave one out cross validation."
   ]
  },
  {
   "cell_type": "code",
   "execution_count": 20,
   "metadata": {},
   "outputs": [
    {
     "name": "stdout",
     "output_type": "stream",
     "text": [
      "Selected degrees of freedom (backward algorithm): \n",
      "\n",
      "Acq_Expense       3\n",
      "Ret_Expense       3\n",
      "First_Purchase    1\n",
      "Revenue           1\n",
      "Employees         0\n",
      "Crossbuy          1\n",
      "Frequency         2\n",
      "Industry          1\n",
      "dtype: int32\n"
     ]
    }
   ],
   "source": [
    "gam = generalised_additive_regression()\n",
    "gam.backward_selection(X_train, y_train, max_dfs, max_dfs_model=20)\n",
    "\n",
    "gam.info()"
   ]
  },
  {
   "cell_type": "code",
   "execution_count": 21,
   "metadata": {},
   "outputs": [
    {
     "data": {
      "image/png": "[encoded data removed]",
      "text/plain": [
       "<matplotlib.figure.Figure at 0x261ba8fc3c8>"
      ]
     },
     "metadata": {},
     "output_type": "display_data"
    }
   ],
   "source": [
    "gam.plot_cv()\n",
    "plt.show()"
   ]
  },
  {
   "cell_type": "markdown",
   "metadata": {},
   "source": [
    "In certain cases, we may simply want to build the design matrices for the training and test sets.  The module supports this as follows."
   ]
  },
  {
   "cell_type": "code",
   "execution_count": 22,
   "metadata": {},
   "outputs": [],
   "source": [
    "from statlearning import gam_design_matrix, gam_design_matrix_test\n",
    "X_train_gam = gam_design_matrix(X_train, spline_dfs)\n",
    "X_train_gam, X_test_gam = gam_design_matrix_test(X_train, X_test, spline_dfs)"
   ]
  },
  {
   "cell_type": "markdown",
   "metadata": {},
   "source": [
    "Note that we need to build the training and test matrices together because we to specify lower and upper bounds for the predictors. "
   ]
  },
  {
   "cell_type": "markdown",
   "metadata": {},
   "source": [
    "##Model evaluation\n",
    "\n",
    "The test results show that accounting for nonlinear effects leads to substantial improvements in predictive accuracy relative to a linear regression. "
   ]
  },
  {
   "cell_type": "code",
   "execution_count": 23,
   "metadata": {},
   "outputs": [
    {
     "data": {
      "text/html": [
       "<div>\n",
       "<style>\n",
       "    .dataframe thead tr:only-child th {\n",
       "        text-align: right;\n",
       "    }\n",
       "\n",
       "    .dataframe thead th {\n",
       "        text-align: left;\n",
       "    }\n",
       "\n",
       "    .dataframe tbody tr th {\n",
       "        vertical-align: top;\n",
       "    }\n",
       "</style>\n",
       "<table border=\"1\" class=\"dataframe\">\n",
       "  <thead>\n",
       "    <tr style=\"text-align: right;\">\n",
       "      <th></th>\n",
       "      <th>Test RMSE</th>\n",
       "      <th>SE</th>\n",
       "      <th>Test R2</th>\n",
       "      <th>SE</th>\n",
       "      <th>Test MAE</th>\n",
       "      <th>SE</th>\n",
       "    </tr>\n",
       "  </thead>\n",
       "  <tbody>\n",
       "    <tr>\n",
       "      <th>OLS</th>\n",
       "      <td>0.457</td>\n",
       "      <td>0.037</td>\n",
       "      <td>0.730</td>\n",
       "      <td>0.095</td>\n",
       "      <td>0.399</td>\n",
       "      <td>0.035</td>\n",
       "    </tr>\n",
       "    <tr>\n",
       "      <th>GAM</th>\n",
       "      <td>0.367</td>\n",
       "      <td>0.035</td>\n",
       "      <td>0.826</td>\n",
       "      <td>0.064</td>\n",
       "      <td>0.306</td>\n",
       "      <td>0.032</td>\n",
       "    </tr>\n",
       "  </tbody>\n",
       "</table>\n",
       "</div>"
      ],
      "text/plain": [
       "     Test RMSE     SE  Test R2     SE  Test MAE     SE\n",
       "OLS      0.457  0.037    0.730  0.095     0.399  0.035\n",
       "GAM      0.367  0.035    0.826  0.064     0.306  0.032"
      ]
     },
     "execution_count": 23,
     "metadata": {},
     "output_type": "execute_result"
    }
   ],
   "source": [
    "# Fitting the two models\n",
    "ols = LinearRegression()\n",
    "ols.fit(X_train, y_train)\n",
    "\n",
    "columns=['Test RMSE', 'SE', 'Test R2', 'SE','Test MAE','SE']\n",
    "rows=['OLS', 'GAM']\n",
    "results=pd.DataFrame(0.0, columns=columns, index=rows) \n",
    "\n",
    "from statlearning import rmse_jack, r2_jack, mae\n",
    "methods=[ols, gam]\n",
    "\n",
    "for i, method in enumerate(methods):\n",
    "\n",
    "    y_pred=method.predict(X_test)\n",
    "    \n",
    "    results.iloc[i,0], results.iloc[i,1] = rmse_jack(y_test, y_pred)\n",
    "    results.iloc[i,2], results.iloc[i,3] = r2_jack(y_test, y_pred)\n",
    "    results.iloc[i,4], results.iloc[i,5] = mae(y_test, y_pred)\n",
    "\n",
    "results.round(3)"
   ]
  },
  {
   "cell_type": "markdown",
   "metadata": {},
   "source": [
    "##To do\n",
    "\n",
    "For future versions of the tutorial: \n",
    "\n",
    "1. Implement smoothing splines.  \n",
    "\n",
    "2. Plot the individual regression functions based on the estimated GAM. \n",
    "\n",
    "##Exercise\n",
    "\n",
    "Using the setting of Tutorial 10 (classification models customer acquisition), build a logistic regression model based on regression splines and investigate whether it leads to improved accuracy for the test data. "
   ]
  }
 ],
 "metadata": {
  "kernelspec": {
   "display_name": "Python 3",
   "language": "python",
   "name": "python3"
  },
  "language_info": {
   "codemirror_mode": {
    "name": "ipython",
    "version": 3
   },
   "file_extension": ".py",
   "mimetype": "text/x-python",
   "name": "python",
   "nbconvert_exporter": "python",
   "pygments_lexer": "ipython3",
   "version": "3.6.3"
  }
 },
 "nbformat": 4,
 "nbformat_minor": 2
}
